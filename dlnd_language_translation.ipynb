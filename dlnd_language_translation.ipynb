{
 "cells": [
  {
   "cell_type": "markdown",
   "metadata": {
    "collapsed": true
   },
   "source": [
    "# Language Translation\n",
    "In this project, you’re going to take a peek into the realm of neural network machine translation.  You’ll be training a sequence to sequence model on a dataset of English and French sentences that can translate new sentences from English to French.\n",
    "## Get the Data\n",
    "Since translating the whole language of English to French will take lots of time to train, we have provided you with a small portion of the English corpus."
   ]
  },
  {
   "cell_type": "code",
   "execution_count": 1,
   "metadata": {
    "collapsed": true
   },
   "outputs": [],
   "source": [
    "\"\"\"\n",
    "DON'T MODIFY ANYTHING IN THIS CELL\n",
    "\"\"\"\n",
    "import helper\n",
    "import problem_unittests as tests\n",
    "\n",
    "source_path = 'data/small_vocab_en'\n",
    "target_path = 'data/small_vocab_fr'\n",
    "source_text = helper.load_data(source_path)\n",
    "target_text = helper.load_data(target_path)"
   ]
  },
  {
   "cell_type": "markdown",
   "metadata": {},
   "source": [
    "## Explore the Data\n",
    "Play around with view_sentence_range to view different parts of the data."
   ]
  },
  {
   "cell_type": "code",
   "execution_count": 2,
   "metadata": {},
   "outputs": [
    {
     "name": "stdout",
     "output_type": "stream",
     "text": [
      "Dataset Stats\n",
      "Roughly the number of unique words: 227\n",
      "Number of sentences: 137861\n",
      "Average number of words in a sentence: 13.225277634719028\n",
      "\n",
      "English sentences 0 to 10:\n",
      "new jersey is sometimes quiet during autumn , and it is snowy in april .\n",
      "the united states is usually chilly during july , and it is usually freezing in november .\n",
      "california is usually quiet during march , and it is usually hot in june .\n",
      "the united states is sometimes mild during june , and it is cold in september .\n",
      "your least liked fruit is the grape , but my least liked is the apple .\n",
      "his favorite fruit is the orange , but my favorite is the grape .\n",
      "paris is relaxing during december , but it is usually chilly in july .\n",
      "new jersey is busy during spring , and it is never hot in march .\n",
      "our least liked fruit is the lemon , but my least liked is the grape .\n",
      "the united states is sometimes busy during january , and it is sometimes warm in november .\n",
      "\n",
      "French sentences 0 to 10:\n",
      "new jersey est parfois calme pendant l' automne , et il est neigeux en avril .\n",
      "les états-unis est généralement froid en juillet , et il gèle habituellement en novembre .\n",
      "california est généralement calme en mars , et il est généralement chaud en juin .\n",
      "les états-unis est parfois légère en juin , et il fait froid en septembre .\n",
      "votre moins aimé fruit est le raisin , mais mon moins aimé est la pomme .\n",
      "son fruit préféré est l'orange , mais mon préféré est le raisin .\n",
      "paris est relaxant en décembre , mais il est généralement froid en juillet .\n",
      "new jersey est occupé au printemps , et il est jamais chaude en mars .\n",
      "notre fruit est moins aimé le citron , mais mon moins aimé est le raisin .\n",
      "les états-unis est parfois occupé en janvier , et il est parfois chaud en novembre .\n"
     ]
    }
   ],
   "source": [
    "view_sentence_range = (0, 10)\n",
    "\n",
    "\"\"\"\n",
    "DON'T MODIFY ANYTHING IN THIS CELL\n",
    "\"\"\"\n",
    "import numpy as np\n",
    "\n",
    "print('Dataset Stats')\n",
    "print('Roughly the number of unique words: {}'.format(len({word: None for word in source_text.split()})))\n",
    "\n",
    "sentences = source_text.split('\\n')\n",
    "word_counts = [len(sentence.split()) for sentence in sentences]\n",
    "print('Number of sentences: {}'.format(len(sentences)))\n",
    "print('Average number of words in a sentence: {}'.format(np.average(word_counts)))\n",
    "\n",
    "print()\n",
    "print('English sentences {} to {}:'.format(*view_sentence_range))\n",
    "print('\\n'.join(source_text.split('\\n')[view_sentence_range[0]:view_sentence_range[1]]))\n",
    "print()\n",
    "print('French sentences {} to {}:'.format(*view_sentence_range))\n",
    "print('\\n'.join(target_text.split('\\n')[view_sentence_range[0]:view_sentence_range[1]]))"
   ]
  },
  {
   "cell_type": "markdown",
   "metadata": {},
   "source": [
    "## Implement Preprocessing Function\n",
    "### Text to Word Ids\n",
    "As you did with other RNNs, you must turn the text into a number so the computer can understand it. In the function `text_to_ids()`, you'll turn `source_text` and `target_text` from words to ids.  However, you need to add the `<EOS>` word id at the end of `target_text`.  This will help the neural network predict when the sentence should end.\n",
    "\n",
    "You can get the `<EOS>` word id by doing:\n",
    "```python\n",
    "target_vocab_to_int['<EOS>']\n",
    "```\n",
    "You can get other word ids using `source_vocab_to_int` and `target_vocab_to_int`."
   ]
  },
  {
   "cell_type": "code",
   "execution_count": 3,
   "metadata": {},
   "outputs": [
    {
     "name": "stdout",
     "output_type": "stream",
     "text": [
      "Tests Passed\n"
     ]
    }
   ],
   "source": [
    "def text_to_ids(source_text, target_text, source_vocab_to_int, target_vocab_to_int):\n",
    "    \"\"\"\n",
    "    Convert source and target text to proper word ids\n",
    "    :param source_text: String that contains all the source text.\n",
    "    :param target_text: String that contains all the target text.\n",
    "    :param source_vocab_to_int: Dictionary to go from the source words to an id\n",
    "    :param target_vocab_to_int: Dictionary to go from the target words to an id\n",
    "    :return: A tuple of lists (source_id_text, target_id_text)\n",
    "    \"\"\"\n",
    "    source_id_text = []\n",
    "    target_id_text = []\n",
    "\n",
    "    for line in source_text.split('\\n'):\n",
    "        source_id_text.append([source_vocab_to_int[item] for item in line.split()])\n",
    "    \n",
    "    for line in target_text.split('\\n'):\n",
    "        target_id_text.append([target_vocab_to_int[item] for item in line.split()] + [1])    \n",
    "\n",
    "    return source_id_text, target_id_text\n",
    "\n",
    "\"\"\"\n",
    "DON'T MODIFY ANYTHING IN THIS CELL THAT IS BELOW THIS LINE\n",
    "\"\"\"\n",
    "tests.test_text_to_ids(text_to_ids)"
   ]
  },
  {
   "cell_type": "markdown",
   "metadata": {},
   "source": [
    "### Preprocess all the data and save it\n",
    "Running the code cell below will preprocess all the data and save it to file."
   ]
  },
  {
   "cell_type": "code",
   "execution_count": 4,
   "metadata": {
    "collapsed": true
   },
   "outputs": [],
   "source": [
    "\"\"\"\n",
    "DON'T MODIFY ANYTHING IN THIS CELL\n",
    "\"\"\"\n",
    "helper.preprocess_and_save_data(source_path, target_path, text_to_ids)"
   ]
  },
  {
   "cell_type": "markdown",
   "metadata": {},
   "source": [
    "# Check Point\n",
    "This is your first checkpoint. If you ever decide to come back to this notebook or have to restart the notebook, you can start from here. The preprocessed data has been saved to disk."
   ]
  },
  {
   "cell_type": "code",
   "execution_count": 5,
   "metadata": {
    "collapsed": true
   },
   "outputs": [],
   "source": [
    "\"\"\"\n",
    "DON'T MODIFY ANYTHING IN THIS CELL\n",
    "\"\"\"\n",
    "import numpy as np\n",
    "import helper\n",
    "\n",
    "(source_int_text, target_int_text), (source_vocab_to_int, target_vocab_to_int), _ = helper.load_preprocess()"
   ]
  },
  {
   "cell_type": "markdown",
   "metadata": {},
   "source": [
    "### Check the Version of TensorFlow and Access to GPU\n",
    "This will check to make sure you have the correct version of TensorFlow and access to a GPU"
   ]
  },
  {
   "cell_type": "code",
   "execution_count": 6,
   "metadata": {},
   "outputs": [
    {
     "name": "stdout",
     "output_type": "stream",
     "text": [
      "TensorFlow Version: 1.1.0\n"
     ]
    },
    {
     "name": "stderr",
     "output_type": "stream",
     "text": [
      "C:\\Users\\conner\\Anaconda3\\envs\\py35\\lib\\site-packages\\ipykernel_launcher.py:15: UserWarning: No GPU found. Please use a GPU to train your neural network.\n",
      "  from ipykernel import kernelapp as app\n"
     ]
    }
   ],
   "source": [
    "\"\"\"\n",
    "DON'T MODIFY ANYTHING IN THIS CELL\n",
    "\"\"\"\n",
    "from distutils.version import LooseVersion\n",
    "import warnings\n",
    "import tensorflow as tf\n",
    "from tensorflow.python.layers.core import Dense\n",
    "\n",
    "# Check TensorFlow Version\n",
    "assert LooseVersion(tf.__version__) >= LooseVersion('1.1'), 'Please use TensorFlow version 1.1 or newer'\n",
    "print('TensorFlow Version: {}'.format(tf.__version__))\n",
    "\n",
    "# Check for a GPU\n",
    "if not tf.test.gpu_device_name():\n",
    "    warnings.warn('No GPU found. Please use a GPU to train your neural network.')\n",
    "else:\n",
    "    print('Default GPU Device: {}'.format(tf.test.gpu_device_name()))"
   ]
  },
  {
   "cell_type": "markdown",
   "metadata": {},
   "source": [
    "## Build the Neural Network\n",
    "You'll build the components necessary to build a Sequence-to-Sequence model by implementing the following functions below:\n",
    "- `model_inputs`\n",
    "- `process_decoder_input`\n",
    "- `encoding_layer`\n",
    "- `decoding_layer_train`\n",
    "- `decoding_layer_infer`\n",
    "- `decoding_layer`\n",
    "- `seq2seq_model`\n",
    "\n",
    "### Input\n",
    "Implement the `model_inputs()` function to create TF Placeholders for the Neural Network. It should create the following placeholders:\n",
    "\n",
    "- Input text placeholder named \"input\" using the TF Placeholder name parameter with rank 2.\n",
    "- Targets placeholder with rank 2.\n",
    "- Learning rate placeholder with rank 0.\n",
    "- Keep probability placeholder named \"keep_prob\" using the TF Placeholder name parameter with rank 0.\n",
    "- Target sequence length placeholder named \"target_sequence_length\" with rank 1\n",
    "- Max target sequence length tensor named \"max_target_len\" getting its value from applying tf.reduce_max on the target_sequence_length placeholder. Rank 0.\n",
    "- Source sequence length placeholder named \"source_sequence_length\" with rank 1\n",
    "\n",
    "Return the placeholders in the following the tuple (input, targets, learning rate, keep probability, target sequence length, max target sequence length, source sequence length)"
   ]
  },
  {
   "cell_type": "code",
   "execution_count": 7,
   "metadata": {},
   "outputs": [
    {
     "name": "stdout",
     "output_type": "stream",
     "text": [
      "Tests Passed\n"
     ]
    }
   ],
   "source": [
    "def model_inputs():\n",
    "    \"\"\"\n",
    "    Create TF Placeholders for input, targets, learning rate, and lengths of source and target sequences.\n",
    "    :return: Tuple (input, targets, learning rate, keep probability, target sequence length,\n",
    "    max target sequence length, source sequence length)\n",
    "    \"\"\"\n",
    "    input = tf.placeholder(tf.int32, [None, None], name='input')\n",
    "    targets = tf.placeholder(tf.int32,[None, None])\n",
    "    learning_rate = tf.placeholder(tf.float32)\n",
    "    keep_prob = tf.placeholder(tf.float32, name=\"keep_prob\")\n",
    "    target_sequence_length = tf.placeholder(tf.int32, [None], name=\"target_sequence_length\")\n",
    "    max_target_len = tf.reduce_max(target_sequence_length, name='max_target_len')\n",
    "    source_sequence_length = tf.placeholder(tf.int32, [None], name=\"source_sequence_length\")\n",
    "    \n",
    "    \n",
    "    \n",
    "    return input, targets, learning_rate, keep_prob, target_sequence_length, max_target_len, source_sequence_length\n",
    "\n",
    "\n",
    "\"\"\"\n",
    "DON'T MODIFY ANYTHING IN THIS CELL THAT IS BELOW THIS LINE\n",
    "\"\"\"\n",
    "tests.test_model_inputs(model_inputs)"
   ]
  },
  {
   "cell_type": "markdown",
   "metadata": {},
   "source": [
    "### Process Decoder Input\n",
    "Implement `process_decoder_input` by removing the last word id from each batch in `target_data` and concat the GO ID to the begining of each batch."
   ]
  },
  {
   "cell_type": "code",
   "execution_count": 8,
   "metadata": {},
   "outputs": [
    {
     "name": "stdout",
     "output_type": "stream",
     "text": [
      "Tests Passed\n"
     ]
    }
   ],
   "source": [
    "def process_decoder_input(target_data, target_vocab_to_int, batch_size):\n",
    "    \"\"\"\n",
    "    Preprocess target data for encoding\n",
    "    :param target_data: Target Placehoder\n",
    "    :param target_vocab_to_int: Dictionary to go from the target words to an id\n",
    "    :param batch_size: Batch Size\n",
    "    :return: Preprocessed target data\n",
    "    \"\"\"\n",
    "    end = tf.strided_slice(target_data, [0,0], [batch_size, -1], [1, 1])\n",
    "    \n",
    "    processed_data = tf.concat([tf.fill([batch_size, 1], target_vocab_to_int['<GO>']), end], 1)\n",
    "    \n",
    "    return processed_data\n",
    "    \n",
    "\"\"\"\n",
    "DON'T MODIFY ANYTHING IN THIS CELL THAT IS BELOW THIS LINE\n",
    "\"\"\"\n",
    "tests.test_process_encoding_input(process_decoder_input)"
   ]
  },
  {
   "cell_type": "markdown",
   "metadata": {},
   "source": [
    "### Encoding\n",
    "Implement `encoding_layer()` to create a Encoder RNN layer:\n",
    " * Embed the encoder input using [`tf.contrib.layers.embed_sequence`](https://www.tensorflow.org/api_docs/python/tf/contrib/layers/embed_sequence)\n",
    " * Construct a [stacked](https://github.com/tensorflow/tensorflow/blob/6947f65a374ebf29e74bb71e36fd82760056d82c/tensorflow/docs_src/tutorials/recurrent.md#stacking-multiple-lstms) [`tf.contrib.rnn.LSTMCell`](https://www.tensorflow.org/api_docs/python/tf/contrib/rnn/LSTMCell) wrapped in a [`tf.contrib.rnn.DropoutWrapper`](https://www.tensorflow.org/api_docs/python/tf/contrib/rnn/DropoutWrapper)\n",
    " * Pass cell and embedded input to [`tf.nn.dynamic_rnn()`](https://www.tensorflow.org/api_docs/python/tf/nn/dynamic_rnn)"
   ]
  },
  {
   "cell_type": "code",
   "execution_count": 9,
   "metadata": {
    "scrolled": false
   },
   "outputs": [
    {
     "name": "stdout",
     "output_type": "stream",
     "text": [
      "Tests Passed\n"
     ]
    }
   ],
   "source": [
    "from imp import reload\n",
    "reload(tests)\n",
    "\n",
    "def encoding_layer(rnn_inputs, rnn_size, num_layers, keep_prob, \n",
    "                   source_sequence_length, source_vocab_size, \n",
    "                   encoding_embedding_size):\n",
    "    \"\"\"\n",
    "    Create encoding layer\n",
    "    :param rnn_inputs: Inputs for the RNN\n",
    "    :param rnn_size: RNN Size\n",
    "    :param num_layers: Number of layers\n",
    "    :param keep_prob: Dropout keep probability\n",
    "    :param source_sequence_length: a list of the lengths of each sequence in the batch\n",
    "    :param source_vocab_size: vocabulary size of source data\n",
    "    :param encoding_embedding_size: embedding size of source data\n",
    "    :return: tuple (RNN output, RNN state)\n",
    "    \"\"\"\n",
    "    embedding = tf.contrib.layers.embed_sequence(rnn_inputs, vocab_size=source_vocab_size,\n",
    "                                                 embed_dim=encoding_embedding_size)\n",
    "    \n",
    "    def lstm_cell_with_drop():\n",
    "        lstm = tf.contrib.rnn.BasicLSTMCell(rnn_size)\n",
    "        wrapped_cell = tf.contrib.rnn.DropoutWrapper(lstm, output_keep_prob=keep_prob)\n",
    "        return wrapped_cell\n",
    "\n",
    "    stacked_lstm = tf.contrib.rnn.MultiRNNCell([lstm_cell_with_drop() for _ in range(num_layers)])\n",
    "\n",
    "    output, state = tf.nn.dynamic_rnn(stacked_lstm, embedding, dtype=tf.float32)\n",
    "    \n",
    "    return output, state\n",
    "\n",
    "\"\"\"\n",
    "DON'T MODIFY ANYTHING IN THIS CELL THAT IS BELOW THIS LINE\n",
    "\"\"\"\n",
    "tests.test_encoding_layer(encoding_layer)"
   ]
  },
  {
   "cell_type": "markdown",
   "metadata": {},
   "source": [
    "### Decoding - Training\n",
    "Create a training decoding layer:\n",
    "* Create a [`tf.contrib.seq2seq.TrainingHelper`](https://www.tensorflow.org/api_docs/python/tf/contrib/seq2seq/TrainingHelper) \n",
    "* Create a [`tf.contrib.seq2seq.BasicDecoder`](https://www.tensorflow.org/api_docs/python/tf/contrib/seq2seq/BasicDecoder)\n",
    "* Obtain the decoder outputs from [`tf.contrib.seq2seq.dynamic_decode`](https://www.tensorflow.org/api_docs/python/tf/contrib/seq2seq/dynamic_decode)"
   ]
  },
  {
   "cell_type": "code",
   "execution_count": 10,
   "metadata": {},
   "outputs": [
    {
     "name": "stdout",
     "output_type": "stream",
     "text": [
      "Tests Passed\n"
     ]
    }
   ],
   "source": [
    "\n",
    "def decoding_layer_train(encoder_state, dec_cell, dec_embed_input, \n",
    "                         target_sequence_length, max_summary_length, \n",
    "                         output_layer, keep_prob):\n",
    "    \"\"\"\n",
    "    Create a decoding layer for training\n",
    "    :param encoder_state: Encoder State\n",
    "    :param dec_cell: Decoder RNN Cell\n",
    "    :param dec_embed_input: Decoder embedded input\n",
    "    :param target_sequence_length: The lengths of each sequence in the target batch\n",
    "    :param max_summary_length: The length of the longest sequence in the batch\n",
    "    :param output_layer: Function to apply the output layer\n",
    "    :param keep_prob: Dropout keep probability\n",
    "    :return: BasicDecoderOutput containing training logits and sample_id\n",
    "    \"\"\"\n",
    "    helper = tf.contrib.seq2seq.TrainingHelper(inputs=dec_embed_input, sequence_length=target_sequence_length)\n",
    "    decoder = tf.contrib.seq2seq.BasicDecoder(cell=dec_cell, helper=helper, initial_state=encoder_state, output_layer=output_layer)\n",
    "    bd_output, _ = tf.contrib.seq2seq.dynamic_decode(decoder, impute_finished=True, maximum_iterations=max_summary_length)\n",
    "    \n",
    "    return bd_output\n",
    "\n",
    "\n",
    "\n",
    "\"\"\"\n",
    "DON'T MODIFY ANYTHING IN THIS CELL THAT IS BELOW THIS LINE\n",
    "\"\"\"\n",
    "tests.test_decoding_layer_train(decoding_layer_train)"
   ]
  },
  {
   "cell_type": "markdown",
   "metadata": {},
   "source": [
    "### Decoding - Inference\n",
    "Create inference decoder:\n",
    "* Create a [`tf.contrib.seq2seq.GreedyEmbeddingHelper`](https://www.tensorflow.org/api_docs/python/tf/contrib/seq2seq/GreedyEmbeddingHelper)\n",
    "* Create a [`tf.contrib.seq2seq.BasicDecoder`](https://www.tensorflow.org/api_docs/python/tf/contrib/seq2seq/BasicDecoder)\n",
    "* Obtain the decoder outputs from [`tf.contrib.seq2seq.dynamic_decode`](https://www.tensorflow.org/api_docs/python/tf/contrib/seq2seq/dynamic_decode)"
   ]
  },
  {
   "cell_type": "code",
   "execution_count": 11,
   "metadata": {
    "scrolled": true
   },
   "outputs": [
    {
     "name": "stdout",
     "output_type": "stream",
     "text": [
      "Tests Passed\n"
     ]
    }
   ],
   "source": [
    "def decoding_layer_infer(encoder_state, dec_cell, dec_embeddings, start_of_sequence_id,\n",
    "                         end_of_sequence_id, max_target_sequence_length,\n",
    "                         vocab_size, output_layer, batch_size, keep_prob):\n",
    "    \"\"\"\n",
    "    Create a decoding layer for inference\n",
    "    :param encoder_state: Encoder state\n",
    "    :param dec_cell: Decoder RNN Cell\n",
    "    :param dec_embeddings: Decoder embeddings\n",
    "    :param start_of_sequence_id: GO ID\n",
    "    :param end_of_sequence_id: EOS Id\n",
    "    :param max_target_sequence_length: Maximum length of target sequences\n",
    "    :param vocab_size: Size of decoder/target vocabulary\n",
    "    :param decoding_scope: TenorFlow Variable Scope for decoding\n",
    "    :param output_layer: Function to apply the output layer\n",
    "    :param batch_size: Batch size\n",
    "    :param keep_prob: Dropout keep probability\n",
    "    :return: BasicDecoderOutput containing inference logits and sample_id\n",
    "    \"\"\"\n",
    "\n",
    "    start_tokens = tf.tile(tf.constant([start_of_sequence_id], dtype=tf.int32), [batch_size], name='batch_size')\n",
    "    helper = tf.contrib.seq2seq.GreedyEmbeddingHelper(embedding=dec_embeddings,start_tokens=start_tokens,\n",
    "                                                      end_token=end_of_sequence_id)\n",
    "    decoder = tf.contrib.seq2seq.BasicDecoder(cell=dec_cell, helper=helper, initial_state=encoder_state, output_layer=output_layer)\n",
    "    output, _ = tf.contrib.seq2seq.dynamic_decode(decoder, impute_finished=True, maximum_iterations=max_target_sequence_length)\n",
    "\n",
    "    return output\n",
    "\n",
    "\n",
    "\n",
    "\"\"\"\n",
    "DON'T MODIFY ANYTHING IN THIS CELL THAT IS BELOW THIS LINE\n",
    "\"\"\"\n",
    "tests.test_decoding_layer_infer(decoding_layer_infer)"
   ]
  },
  {
   "cell_type": "markdown",
   "metadata": {},
   "source": [
    "### Build the Decoding Layer\n",
    "Implement `decoding_layer()` to create a Decoder RNN layer.\n",
    "\n",
    "* Embed the target sequences\n",
    "* Construct the decoder LSTM cell (just like you constructed the encoder cell above)\n",
    "* Create an output layer to map the outputs of the decoder to the elements of our vocabulary\n",
    "* Use the your `decoding_layer_train(encoder_state, dec_cell, dec_embed_input, target_sequence_length, max_target_sequence_length, output_layer, keep_prob)` function to get the training logits.\n",
    "* Use your `decoding_layer_infer(encoder_state, dec_cell, dec_embeddings, start_of_sequence_id, end_of_sequence_id, max_target_sequence_length, vocab_size, output_layer, batch_size, keep_prob)` function to get the inference logits.\n",
    "\n",
    "Note: You'll need to use [tf.variable_scope](https://www.tensorflow.org/api_docs/python/tf/variable_scope) to share variables between training and inference."
   ]
  },
  {
   "cell_type": "code",
   "execution_count": 17,
   "metadata": {},
   "outputs": [
    {
     "name": "stdout",
     "output_type": "stream",
     "text": [
      "Tests Passed\n"
     ]
    }
   ],
   "source": [
    "def decoding_layer(dec_input, encoder_state,\n",
    "                   target_sequence_length, max_target_sequence_length,\n",
    "                   rnn_size,\n",
    "                   num_layers, target_vocab_to_int, target_vocab_size,\n",
    "                   batch_size, keep_prob, decoding_embedding_size):\n",
    "    \"\"\"\n",
    "    Create decoding layer\n",
    "    :param dec_input: Decoder input\n",
    "    :param encoder_state: Encoder state\n",
    "    :param target_sequence_length: The lengths of each sequence in the target batch\n",
    "    :param max_target_sequence_length: Maximum length of target sequences\n",
    "    :param rnn_size: RNN Size\n",
    "    :param num_layers: Number of layers\n",
    "    :param target_vocab_to_int: Dictionary to go from the target words to an id\n",
    "    :param target_vocab_size: Size of target vocabulary\n",
    "    :param batch_size: The size of the batch\n",
    "    :param keep_prob: Dropout keep probability\n",
    "    :return: Tuple of (Training BasicDecoderOutput, Inference BasicDecoderOutput)\n",
    "    \"\"\"\n",
    "\n",
    "    # embedding\n",
    "    dec_embeddings = tf.Variable(tf.random_uniform([target_vocab_size, decoding_embedding_size]))\n",
    "    dec_embed_input = tf.nn.embedding_lookup(dec_embeddings, dec_input)\n",
    "    \n",
    "    # decoder LSTM cell    \n",
    "    def lstm_cell():\n",
    "        lstm = tf.contrib.rnn.BasicLSTMCell(rnn_size)\n",
    "        return lstm\n",
    "\n",
    "    stacked_decoder_lstm = tf.contrib.rnn.MultiRNNCell([lstm_cell() for _ in range(num_layers)])\n",
    "\n",
    "    # output layer\n",
    "    output_layer = Dense(target_vocab_size, \n",
    "                         kernel_initializer=tf.truncated_normal_initializer(mean=0.0, stddev=0.1))\n",
    "    \n",
    "    \n",
    "    # training decoder\n",
    "    with tf.variable_scope('decode'):\n",
    "        \n",
    "        train_logits = decoding_layer_train(encoder_state, stacked_decoder_lstm, dec_embed_input, target_sequence_length,\n",
    "                                      max_target_sequence_length, output_layer, keep_prob)\n",
    "        \n",
    "    # inference decoder \n",
    "    with tf.variable_scope('decode', reuse=True):\n",
    "          \n",
    "        infer_logits = decoding_layer_infer(encoder_state, stacked_decoder_lstm, dec_embeddings, \n",
    "                                            target_vocab_to_int['<GO>'], target_vocab_to_int['<EOS>'],\n",
    "                                            max_target_sequence_length, target_vocab_size, output_layer, \n",
    "                                            batch_size, keep_prob)\n",
    "    \n",
    "    return train_logits, infer_logits\n",
    "\n",
    "\n",
    "\n",
    "\n",
    "\"\"\"\n",
    "DON'T MODIFY ANYTHING IN THIS CELL THAT IS BELOW THIS LINE\n",
    "\"\"\"\n",
    "tests.test_decoding_layer(decoding_layer)"
   ]
  },
  {
   "cell_type": "markdown",
   "metadata": {},
   "source": [
    "### Build the Neural Network\n",
    "Apply the functions you implemented above to:\n",
    "\n",
    "- Apply embedding to the input data for the encoder.\n",
    "- Encode the input using your `encoding_layer(rnn_inputs, rnn_size, num_layers, keep_prob,  source_sequence_length, source_vocab_size, encoding_embedding_size)`.\n",
    "- Process target data using your `process_decoder_input(target_data, target_vocab_to_int, batch_size)` function.\n",
    "- Apply embedding to the target data for the decoder.\n",
    "- Decode the encoded input using your `decoding_layer(dec_input, enc_state, target_sequence_length, max_target_sentence_length, rnn_size, num_layers, target_vocab_to_int, target_vocab_size, batch_size, keep_prob, dec_embedding_size)` function."
   ]
  },
  {
   "cell_type": "code",
   "execution_count": 18,
   "metadata": {},
   "outputs": [
    {
     "name": "stdout",
     "output_type": "stream",
     "text": [
      "Tests Passed\n"
     ]
    }
   ],
   "source": [
    "def seq2seq_model(input_data, target_data, keep_prob, batch_size,\n",
    "                  source_sequence_length, target_sequence_length,\n",
    "                  max_target_sentence_length,\n",
    "                  source_vocab_size, target_vocab_size,\n",
    "                  enc_embedding_size, dec_embedding_size,\n",
    "                  rnn_size, num_layers, target_vocab_to_int):\n",
    "    \"\"\"\n",
    "    Build the Sequence-to-Sequence part of the neural network\n",
    "    :param input_data: Input placeholder\n",
    "    :param target_data: Target placeholder\n",
    "    :param keep_prob: Dropout keep probability placeholder\n",
    "    :param batch_size: Batch Size\n",
    "    :param source_sequence_length: Sequence Lengths of source sequences in the batch\n",
    "    :param target_sequence_length: Sequence Lengths of target sequences in the batch\n",
    "    :param source_vocab_size: Source vocabulary size\n",
    "    :param target_vocab_size: Target vocabulary size\n",
    "    :param enc_embedding_size: Decoder embedding size\n",
    "    :param dec_embedding_size: Encoder embedding size\n",
    "    :param rnn_size: RNN Size\n",
    "    :param num_layers: Number of layers\n",
    "    :param target_vocab_to_int: Dictionary to go from the target words to an id\n",
    "    :return: Tuple of (Training BasicDecoderOutput, Inference BasicDecoderOutput)\n",
    "    \"\"\"\n",
    "    _, enc_state = encoding_layer(rnn_inputs=input_data, rnn_size=rnn_size, num_layers=num_layers, \n",
    "                             keep_prob=keep_prob, source_sequence_length=source_sequence_length, \n",
    "                             source_vocab_size=source_vocab_size, encoding_embedding_size=enc_embedding_size)\n",
    "    \n",
    "    processed_dec_input = process_decoder_input(target_data, target_vocab_to_int, batch_size)\n",
    "\n",
    "    train_output, infer_output = decoding_layer(processed_dec_input, enc_state, target_sequence_length, \n",
    "                                                max_target_sentence_length, rnn_size, num_layers, \n",
    "                                                target_vocab_to_int, target_vocab_size, batch_size, \n",
    "                                                keep_prob, dec_embedding_size)\n",
    "    return train_output, infer_output\n",
    "\n",
    "\"\"\"\n",
    "DON'T MODIFY ANYTHING IN THIS CELL THAT IS BELOW THIS LINE\n",
    "\"\"\"\n",
    "tests.test_seq2seq_model(seq2seq_model)"
   ]
  },
  {
   "cell_type": "markdown",
   "metadata": {},
   "source": [
    "## Neural Network Training\n",
    "### Hyperparameters\n",
    "Tune the following parameters:\n",
    "\n",
    "- Set `epochs` to the number of epochs.\n",
    "- Set `batch_size` to the batch size.\n",
    "- Set `rnn_size` to the size of the RNNs.\n",
    "- Set `num_layers` to the number of layers.\n",
    "- Set `encoding_embedding_size` to the size of the embedding for the encoder.\n",
    "- Set `decoding_embedding_size` to the size of the embedding for the decoder.\n",
    "- Set `learning_rate` to the learning rate.\n",
    "- Set `keep_probability` to the Dropout keep probability\n",
    "- Set `display_step` to state how many steps between each debug output statement"
   ]
  },
  {
   "cell_type": "code",
   "execution_count": 28,
   "metadata": {
    "collapsed": true
   },
   "outputs": [],
   "source": [
    "# Number of Epochs\n",
    "epochs = 5\n",
    "# Batch Size\n",
    "batch_size = 48\n",
    "# RNN Size\n",
    "rnn_size = 256\n",
    "# Number of Layers\n",
    "num_layers = 2\n",
    "# Embedding Size\n",
    "encoding_embedding_size = 256\n",
    "decoding_embedding_size = 256\n",
    "# Learning Rate\n",
    "learning_rate = 0.001\n",
    "# Dropout Keep Probability\n",
    "keep_probability = .70\n",
    "display_step = 25"
   ]
  },
  {
   "cell_type": "markdown",
   "metadata": {},
   "source": [
    "### Build the Graph\n",
    "Build the graph using the neural network you implemented."
   ]
  },
  {
   "cell_type": "code",
   "execution_count": 29,
   "metadata": {
    "collapsed": true
   },
   "outputs": [],
   "source": [
    "\"\"\"\n",
    "DON'T MODIFY ANYTHING IN THIS CELL\n",
    "\"\"\"\n",
    "save_path = 'checkpoints/dev'\n",
    "(source_int_text, target_int_text), (source_vocab_to_int, target_vocab_to_int), _ = helper.load_preprocess()\n",
    "max_target_sentence_length = max([len(sentence) for sentence in source_int_text])\n",
    "\n",
    "train_graph = tf.Graph()\n",
    "with train_graph.as_default():\n",
    "    input_data, targets, lr, keep_prob, target_sequence_length, max_target_sequence_length, source_sequence_length = model_inputs()\n",
    "\n",
    "    #sequence_length = tf.placeholder_with_default(max_target_sentence_length, None, name='sequence_length')\n",
    "    input_shape = tf.shape(input_data)\n",
    "\n",
    "    train_logits, inference_logits = seq2seq_model(tf.reverse(input_data, [-1]),\n",
    "                                                   targets,\n",
    "                                                   keep_prob,\n",
    "                                                   batch_size,\n",
    "                                                   source_sequence_length,\n",
    "                                                   target_sequence_length,\n",
    "                                                   max_target_sequence_length,\n",
    "                                                   len(source_vocab_to_int),\n",
    "                                                   len(target_vocab_to_int),\n",
    "                                                   encoding_embedding_size,\n",
    "                                                   decoding_embedding_size,\n",
    "                                                   rnn_size,\n",
    "                                                   num_layers,\n",
    "                                                   target_vocab_to_int)\n",
    "\n",
    "\n",
    "    training_logits = tf.identity(train_logits.rnn_output, name='logits')\n",
    "    inference_logits = tf.identity(inference_logits.sample_id, name='predictions')\n",
    "\n",
    "    masks = tf.sequence_mask(target_sequence_length, max_target_sequence_length, dtype=tf.float32, name='masks')\n",
    "\n",
    "    with tf.name_scope(\"optimization\"):\n",
    "        # Loss function\n",
    "        cost = tf.contrib.seq2seq.sequence_loss(\n",
    "            training_logits,\n",
    "            targets,\n",
    "            masks)\n",
    "\n",
    "        # Optimizer\n",
    "        optimizer = tf.train.AdamOptimizer(lr)\n",
    "\n",
    "        # Gradient Clipping\n",
    "        gradients = optimizer.compute_gradients(cost)\n",
    "        capped_gradients = [(tf.clip_by_value(grad, -1., 1.), var) for grad, var in gradients if grad is not None]\n",
    "        train_op = optimizer.apply_gradients(capped_gradients)\n"
   ]
  },
  {
   "cell_type": "markdown",
   "metadata": {},
   "source": [
    "Batch and pad the source and target sequences"
   ]
  },
  {
   "cell_type": "code",
   "execution_count": 30,
   "metadata": {
    "collapsed": true
   },
   "outputs": [],
   "source": [
    "\"\"\"\n",
    "DON'T MODIFY ANYTHING IN THIS CELL\n",
    "\"\"\"\n",
    "def pad_sentence_batch(sentence_batch, pad_int):\n",
    "    \"\"\"Pad sentences with <PAD> so that each sentence of a batch has the same length\"\"\"\n",
    "    max_sentence = max([len(sentence) for sentence in sentence_batch])\n",
    "    return [sentence + [pad_int] * (max_sentence - len(sentence)) for sentence in sentence_batch]\n",
    "\n",
    "\n",
    "def get_batches(sources, targets, batch_size, source_pad_int, target_pad_int):\n",
    "    \"\"\"Batch targets, sources, and the lengths of their sentences together\"\"\"\n",
    "    for batch_i in range(0, len(sources)//batch_size):\n",
    "        start_i = batch_i * batch_size\n",
    "\n",
    "        # Slice the right amount for the batch\n",
    "        sources_batch = sources[start_i:start_i + batch_size]\n",
    "        targets_batch = targets[start_i:start_i + batch_size]\n",
    "\n",
    "        # Pad\n",
    "        pad_sources_batch = np.array(pad_sentence_batch(sources_batch, source_pad_int))\n",
    "        pad_targets_batch = np.array(pad_sentence_batch(targets_batch, target_pad_int))\n",
    "\n",
    "        # Need the lengths for the _lengths parameters\n",
    "        pad_targets_lengths = []\n",
    "        for target in pad_targets_batch:\n",
    "            pad_targets_lengths.append(len(target))\n",
    "\n",
    "        pad_source_lengths = []\n",
    "        for source in pad_sources_batch:\n",
    "            pad_source_lengths.append(len(source))\n",
    "\n",
    "        yield pad_sources_batch, pad_targets_batch, pad_source_lengths, pad_targets_lengths\n"
   ]
  },
  {
   "cell_type": "markdown",
   "metadata": {},
   "source": [
    "### Train\n",
    "Train the neural network on the preprocessed data. If you have a hard time getting a good loss, check the forms to see if anyone is having the same problem."
   ]
  },
  {
   "cell_type": "code",
   "execution_count": null,
   "metadata": {
    "scrolled": true
   },
   "outputs": [
    {
     "name": "stdout",
     "output_type": "stream",
     "text": [
      "Epoch   0 Batch   25/2872 - Train Accuracy: 0.3103, Validation Accuracy: 0.3883, Loss: 3.1067\n",
      "Epoch   0 Batch   50/2872 - Train Accuracy: 0.4101, Validation Accuracy: 0.4773, Loss: 2.5907\n",
      "Epoch   0 Batch   75/2872 - Train Accuracy: 0.4613, Validation Accuracy: 0.4498, Loss: 1.9839\n",
      "Epoch   0 Batch  100/2872 - Train Accuracy: 0.3991, Validation Accuracy: 0.4688, Loss: 2.0311\n",
      "Epoch   0 Batch  125/2872 - Train Accuracy: 0.3866, Validation Accuracy: 0.4271, Loss: 1.8191\n",
      "Epoch   0 Batch  150/2872 - Train Accuracy: 0.4146, Validation Accuracy: 0.4337, Loss: 1.3974\n",
      "Epoch   0 Batch  175/2872 - Train Accuracy: 0.3586, Validation Accuracy: 0.4574, Loss: 1.3896\n",
      "Epoch   0 Batch  200/2872 - Train Accuracy: 0.4682, Validation Accuracy: 0.4943, Loss: 1.2347\n",
      "Epoch   0 Batch  225/2872 - Train Accuracy: 0.5132, Validation Accuracy: 0.5294, Loss: 1.0647\n",
      "Epoch   0 Batch  250/2872 - Train Accuracy: 0.4813, Validation Accuracy: 0.5237, Loss: 1.0731\n",
      "Epoch   0 Batch  275/2872 - Train Accuracy: 0.5395, Validation Accuracy: 0.5227, Loss: 0.9789\n",
      "Epoch   0 Batch  300/2872 - Train Accuracy: 0.4969, Validation Accuracy: 0.5578, Loss: 0.9248\n",
      "Epoch   0 Batch  325/2872 - Train Accuracy: 0.5088, Validation Accuracy: 0.5455, Loss: 0.8685\n",
      "Epoch   0 Batch  350/2872 - Train Accuracy: 0.5446, Validation Accuracy: 0.5616, Loss: 0.7584\n",
      "Epoch   0 Batch  375/2872 - Train Accuracy: 0.5175, Validation Accuracy: 0.5758, Loss: 0.8278\n",
      "Epoch   0 Batch  400/2872 - Train Accuracy: 0.5000, Validation Accuracy: 0.5644, Loss: 0.8304\n",
      "Epoch   0 Batch  425/2872 - Train Accuracy: 0.5515, Validation Accuracy: 0.5862, Loss: 0.7778\n",
      "Epoch   0 Batch  450/2872 - Train Accuracy: 0.5877, Validation Accuracy: 0.5758, Loss: 0.7603\n",
      "Epoch   0 Batch  475/2872 - Train Accuracy: 0.5592, Validation Accuracy: 0.5748, Loss: 0.7253\n",
      "Epoch   0 Batch  500/2872 - Train Accuracy: 0.6086, Validation Accuracy: 0.5919, Loss: 0.6860\n",
      "Epoch   0 Batch  525/2872 - Train Accuracy: 0.6115, Validation Accuracy: 0.6136, Loss: 0.6617\n",
      "Epoch   0 Batch  550/2872 - Train Accuracy: 0.5811, Validation Accuracy: 0.5786, Loss: 0.6509\n",
      "Epoch   0 Batch  575/2872 - Train Accuracy: 0.5866, Validation Accuracy: 0.6203, Loss: 0.6687\n",
      "Epoch   0 Batch  600/2872 - Train Accuracy: 0.6250, Validation Accuracy: 0.6212, Loss: 0.5885\n",
      "Epoch   0 Batch  625/2872 - Train Accuracy: 0.5396, Validation Accuracy: 0.6098, Loss: 0.6702\n",
      "Epoch   0 Batch  650/2872 - Train Accuracy: 0.5351, Validation Accuracy: 0.6146, Loss: 0.6357\n",
      "Epoch   0 Batch  675/2872 - Train Accuracy: 0.5197, Validation Accuracy: 0.5076, Loss: 0.6241\n",
      "Epoch   0 Batch  700/2872 - Train Accuracy: 0.6469, Validation Accuracy: 0.6468, Loss: 0.5470\n",
      "Epoch   0 Batch  725/2872 - Train Accuracy: 0.6250, Validation Accuracy: 0.5900, Loss: 0.5486\n",
      "Epoch   0 Batch  750/2872 - Train Accuracy: 0.6781, Validation Accuracy: 0.6316, Loss: 0.5104\n",
      "Epoch   0 Batch  775/2872 - Train Accuracy: 0.6344, Validation Accuracy: 0.6278, Loss: 0.5856\n",
      "Epoch   0 Batch  800/2872 - Train Accuracy: 0.6042, Validation Accuracy: 0.5691, Loss: 0.5214\n",
      "Epoch   0 Batch  825/2872 - Train Accuracy: 0.6732, Validation Accuracy: 0.6411, Loss: 0.5595\n",
      "Epoch   0 Batch  850/2872 - Train Accuracy: 0.6250, Validation Accuracy: 0.5852, Loss: 0.5041\n",
      "Epoch   0 Batch  875/2872 - Train Accuracy: 0.6458, Validation Accuracy: 0.6402, Loss: 0.5150\n",
      "Epoch   0 Batch  900/2872 - Train Accuracy: 0.6240, Validation Accuracy: 0.6089, Loss: 0.4819\n",
      "Epoch   0 Batch  925/2872 - Train Accuracy: 0.5896, Validation Accuracy: 0.6089, Loss: 0.4824\n",
      "Epoch   0 Batch  950/2872 - Train Accuracy: 0.6369, Validation Accuracy: 0.6335, Loss: 0.4445\n",
      "Epoch   0 Batch  975/2872 - Train Accuracy: 0.6365, Validation Accuracy: 0.6203, Loss: 0.4620\n",
      "Epoch   0 Batch 1000/2872 - Train Accuracy: 0.5687, Validation Accuracy: 0.6487, Loss: 0.4992\n",
      "Epoch   0 Batch 1025/2872 - Train Accuracy: 0.6908, Validation Accuracy: 0.6723, Loss: 0.4613\n",
      "Epoch   0 Batch 1050/2872 - Train Accuracy: 0.6389, Validation Accuracy: 0.6487, Loss: 0.4821\n",
      "Epoch   0 Batch 1075/2872 - Train Accuracy: 0.7198, Validation Accuracy: 0.6259, Loss: 0.4009\n",
      "Epoch   0 Batch 1100/2872 - Train Accuracy: 0.7021, Validation Accuracy: 0.6515, Loss: 0.3973\n",
      "Epoch   0 Batch 1125/2872 - Train Accuracy: 0.6937, Validation Accuracy: 0.6828, Loss: 0.3939\n",
      "Epoch   0 Batch 1150/2872 - Train Accuracy: 0.6583, Validation Accuracy: 0.6676, Loss: 0.3847\n",
      "Epoch   0 Batch 1175/2872 - Train Accuracy: 0.7021, Validation Accuracy: 0.7074, Loss: 0.3760\n",
      "Epoch   0 Batch 1200/2872 - Train Accuracy: 0.6750, Validation Accuracy: 0.6477, Loss: 0.3785\n",
      "Epoch   0 Batch 1225/2872 - Train Accuracy: 0.6754, Validation Accuracy: 0.6998, Loss: 0.4006\n",
      "Epoch   0 Batch 1250/2872 - Train Accuracy: 0.7361, Validation Accuracy: 0.6837, Loss: 0.3243\n",
      "Epoch   0 Batch 1275/2872 - Train Accuracy: 0.7341, Validation Accuracy: 0.7008, Loss: 0.3529\n",
      "Epoch   0 Batch 1300/2872 - Train Accuracy: 0.7270, Validation Accuracy: 0.7216, Loss: 0.3284\n",
      "Epoch   0 Batch 1325/2872 - Train Accuracy: 0.7521, Validation Accuracy: 0.7055, Loss: 0.2970\n",
      "Epoch   0 Batch 1350/2872 - Train Accuracy: 0.7510, Validation Accuracy: 0.7528, Loss: 0.2867\n",
      "Epoch   0 Batch 1375/2872 - Train Accuracy: 0.7333, Validation Accuracy: 0.7263, Loss: 0.3371\n",
      "Epoch   0 Batch 1400/2872 - Train Accuracy: 0.7438, Validation Accuracy: 0.6979, Loss: 0.2576\n",
      "Epoch   0 Batch 1425/2872 - Train Accuracy: 0.7555, Validation Accuracy: 0.7358, Loss: 0.2708\n",
      "Epoch   0 Batch 1450/2872 - Train Accuracy: 0.7844, Validation Accuracy: 0.7604, Loss: 0.2727\n",
      "Epoch   0 Batch 1475/2872 - Train Accuracy: 0.7906, Validation Accuracy: 0.7765, Loss: 0.3071\n",
      "Epoch   0 Batch 1500/2872 - Train Accuracy: 0.8458, Validation Accuracy: 0.7718, Loss: 0.2019\n",
      "Epoch   0 Batch 1525/2872 - Train Accuracy: 0.8385, Validation Accuracy: 0.7708, Loss: 0.2038\n",
      "Epoch   0 Batch 1550/2872 - Train Accuracy: 0.8611, Validation Accuracy: 0.7926, Loss: 0.2100\n",
      "Epoch   0 Batch 1575/2872 - Train Accuracy: 0.7741, Validation Accuracy: 0.8191, Loss: 0.2345\n",
      "Epoch   0 Batch 1600/2872 - Train Accuracy: 0.8004, Validation Accuracy: 0.8551, Loss: 0.2558\n",
      "Epoch   0 Batch 1625/2872 - Train Accuracy: 0.7939, Validation Accuracy: 0.8428, Loss: 0.2085\n",
      "Epoch   0 Batch 1650/2872 - Train Accuracy: 0.8980, Validation Accuracy: 0.9034, Loss: 0.1949\n",
      "Epoch   0 Batch 1675/2872 - Train Accuracy: 0.8729, Validation Accuracy: 0.8778, Loss: 0.1686\n",
      "Epoch   0 Batch 1700/2872 - Train Accuracy: 0.8208, Validation Accuracy: 0.8845, Loss: 0.1707\n",
      "Epoch   0 Batch 1725/2872 - Train Accuracy: 0.8980, Validation Accuracy: 0.8892, Loss: 0.1359\n",
      "Epoch   0 Batch 1750/2872 - Train Accuracy: 0.8594, Validation Accuracy: 0.8400, Loss: 0.1665\n",
      "Epoch   0 Batch 1775/2872 - Train Accuracy: 0.9243, Validation Accuracy: 0.8977, Loss: 0.1410\n",
      "Epoch   0 Batch 1800/2872 - Train Accuracy: 0.8708, Validation Accuracy: 0.8968, Loss: 0.1537\n",
      "Epoch   0 Batch 1825/2872 - Train Accuracy: 0.9104, Validation Accuracy: 0.8930, Loss: 0.1111\n",
      "Epoch   0 Batch 1850/2872 - Train Accuracy: 0.8377, Validation Accuracy: 0.8977, Loss: 0.1503\n",
      "Epoch   0 Batch 1875/2872 - Train Accuracy: 0.8869, Validation Accuracy: 0.9205, Loss: 0.1195\n",
      "Epoch   0 Batch 1900/2872 - Train Accuracy: 0.9090, Validation Accuracy: 0.9044, Loss: 0.0921\n",
      "Epoch   0 Batch 1925/2872 - Train Accuracy: 0.8625, Validation Accuracy: 0.8968, Loss: 0.1244\n",
      "Epoch   0 Batch 1950/2872 - Train Accuracy: 0.9365, Validation Accuracy: 0.9280, Loss: 0.1220\n",
      "Epoch   0 Batch 1975/2872 - Train Accuracy: 0.9572, Validation Accuracy: 0.9498, Loss: 0.0805\n",
      "Epoch   0 Batch 2000/2872 - Train Accuracy: 0.9232, Validation Accuracy: 0.8902, Loss: 0.1048\n",
      "Epoch   0 Batch 2025/2872 - Train Accuracy: 0.9042, Validation Accuracy: 0.9167, Loss: 0.0649\n",
      "Epoch   0 Batch 2050/2872 - Train Accuracy: 0.8948, Validation Accuracy: 0.9148, Loss: 0.0726\n",
      "Epoch   0 Batch 2075/2872 - Train Accuracy: 0.9243, Validation Accuracy: 0.9044, Loss: 0.1078\n",
      "Epoch   0 Batch 2100/2872 - Train Accuracy: 0.8829, Validation Accuracy: 0.9223, Loss: 0.0631\n",
      "Epoch   0 Batch 2125/2872 - Train Accuracy: 0.9276, Validation Accuracy: 0.9337, Loss: 0.0708\n",
      "Epoch   0 Batch 2150/2872 - Train Accuracy: 0.9101, Validation Accuracy: 0.9062, Loss: 0.0793\n",
      "Epoch   0 Batch 2175/2872 - Train Accuracy: 0.8938, Validation Accuracy: 0.8617, Loss: 0.0673\n",
      "Epoch   0 Batch 2200/2872 - Train Accuracy: 0.9077, Validation Accuracy: 0.9186, Loss: 0.0666\n"
     ]
    },
    {
     "name": "stdout",
     "output_type": "stream",
     "text": [
      "Epoch   0 Batch 2225/2872 - Train Accuracy: 0.9187, Validation Accuracy: 0.9309, Loss: 0.0748\n",
      "Epoch   0 Batch 2250/2872 - Train Accuracy: 0.9419, Validation Accuracy: 0.9271, Loss: 0.0670\n",
      "Epoch   0 Batch 2275/2872 - Train Accuracy: 0.8990, Validation Accuracy: 0.9640, Loss: 0.0850\n",
      "Epoch   0 Batch 2300/2872 - Train Accuracy: 0.9265, Validation Accuracy: 0.9233, Loss: 0.0615\n",
      "Epoch   0 Batch 2325/2872 - Train Accuracy: 0.9542, Validation Accuracy: 0.9517, Loss: 0.0526\n",
      "Epoch   0 Batch 2350/2872 - Train Accuracy: 0.9309, Validation Accuracy: 0.9384, Loss: 0.0602\n",
      "Epoch   0 Batch 2375/2872 - Train Accuracy: 0.9375, Validation Accuracy: 0.9062, Loss: 0.0617\n",
      "Epoch   0 Batch 2400/2872 - Train Accuracy: 0.9605, Validation Accuracy: 0.9640, Loss: 0.0473\n",
      "Epoch   0 Batch 2425/2872 - Train Accuracy: 0.9917, Validation Accuracy: 0.9318, Loss: 0.0821\n",
      "Epoch   0 Batch 2450/2872 - Train Accuracy: 0.9656, Validation Accuracy: 0.9375, Loss: 0.0508\n",
      "Epoch   0 Batch 2475/2872 - Train Accuracy: 0.8771, Validation Accuracy: 0.9186, Loss: 0.0722\n",
      "Epoch   0 Batch 2500/2872 - Train Accuracy: 0.8893, Validation Accuracy: 0.9271, Loss: 0.1159\n",
      "Epoch   0 Batch 2525/2872 - Train Accuracy: 0.9879, Validation Accuracy: 0.9441, Loss: 0.0461\n",
      "Epoch   0 Batch 2550/2872 - Train Accuracy: 0.9573, Validation Accuracy: 0.9261, Loss: 0.0365\n",
      "Epoch   0 Batch 2575/2872 - Train Accuracy: 0.9583, Validation Accuracy: 0.9441, Loss: 0.0471\n",
      "Epoch   0 Batch 2600/2872 - Train Accuracy: 0.8805, Validation Accuracy: 0.8987, Loss: 0.0498\n",
      "Epoch   0 Batch 2625/2872 - Train Accuracy: 0.9240, Validation Accuracy: 0.9176, Loss: 0.0438\n",
      "Epoch   0 Batch 2650/2872 - Train Accuracy: 0.8936, Validation Accuracy: 0.9015, Loss: 0.0419\n",
      "Epoch   0 Batch 2675/2872 - Train Accuracy: 0.9906, Validation Accuracy: 0.9621, Loss: 0.0258\n",
      "Epoch   0 Batch 2700/2872 - Train Accuracy: 0.9333, Validation Accuracy: 0.9195, Loss: 0.0454\n",
      "Epoch   0 Batch 2725/2872 - Train Accuracy: 0.9286, Validation Accuracy: 0.8807, Loss: 0.0457\n",
      "Epoch   0 Batch 2750/2872 - Train Accuracy: 0.9419, Validation Accuracy: 0.8987, Loss: 0.0603\n",
      "Epoch   0 Batch 2775/2872 - Train Accuracy: 0.9254, Validation Accuracy: 0.9347, Loss: 0.0490\n",
      "Epoch   0 Batch 2800/2872 - Train Accuracy: 0.9448, Validation Accuracy: 0.8987, Loss: 0.0309\n",
      "Epoch   0 Batch 2825/2872 - Train Accuracy: 0.8904, Validation Accuracy: 0.9347, Loss: 0.0671\n",
      "Epoch   0 Batch 2850/2872 - Train Accuracy: 0.9208, Validation Accuracy: 0.9498, Loss: 0.0367\n",
      "Epoch   1 Batch   25/2872 - Train Accuracy: 0.9572, Validation Accuracy: 0.9555, Loss: 0.0408\n",
      "Epoch   1 Batch   50/2872 - Train Accuracy: 0.9254, Validation Accuracy: 0.9792, Loss: 0.0427\n",
      "Epoch   1 Batch   75/2872 - Train Accuracy: 0.9534, Validation Accuracy: 0.9261, Loss: 0.0429\n",
      "Epoch   1 Batch  100/2872 - Train Accuracy: 0.9485, Validation Accuracy: 0.9621, Loss: 0.0422\n",
      "Epoch   1 Batch  125/2872 - Train Accuracy: 0.9167, Validation Accuracy: 0.9384, Loss: 0.0525\n",
      "Epoch   1 Batch  150/2872 - Train Accuracy: 0.9260, Validation Accuracy: 0.9148, Loss: 0.0479\n",
      "Epoch   1 Batch  175/2872 - Train Accuracy: 0.9243, Validation Accuracy: 0.9176, Loss: 0.0414\n",
      "Epoch   1 Batch  200/2872 - Train Accuracy: 0.9638, Validation Accuracy: 0.9650, Loss: 0.0460\n",
      "Epoch   1 Batch  225/2872 - Train Accuracy: 0.9682, Validation Accuracy: 0.9801, Loss: 0.0209\n",
      "Epoch   1 Batch  250/2872 - Train Accuracy: 0.9604, Validation Accuracy: 0.9763, Loss: 0.0474\n",
      "Epoch   1 Batch  275/2872 - Train Accuracy: 0.9221, Validation Accuracy: 0.9441, Loss: 0.0505\n",
      "Epoch   1 Batch  300/2872 - Train Accuracy: 0.9865, Validation Accuracy: 0.9631, Loss: 0.0287\n",
      "Epoch   1 Batch  325/2872 - Train Accuracy: 0.9298, Validation Accuracy: 0.9347, Loss: 0.0502\n",
      "Epoch   1 Batch  350/2872 - Train Accuracy: 0.9137, Validation Accuracy: 0.8987, Loss: 0.0350\n",
      "Epoch   1 Batch  375/2872 - Train Accuracy: 0.9046, Validation Accuracy: 0.9280, Loss: 0.0343\n",
      "Epoch   1 Batch  400/2872 - Train Accuracy: 0.9342, Validation Accuracy: 0.9631, Loss: 0.0515\n",
      "Epoch   1 Batch  425/2872 - Train Accuracy: 0.9627, Validation Accuracy: 0.9422, Loss: 0.0548\n",
      "Epoch   1 Batch  450/2872 - Train Accuracy: 0.8860, Validation Accuracy: 0.9659, Loss: 0.0678\n",
      "Epoch   1 Batch  475/2872 - Train Accuracy: 0.9759, Validation Accuracy: 0.9470, Loss: 0.0332\n",
      "Epoch   1 Batch  500/2872 - Train Accuracy: 0.9518, Validation Accuracy: 0.9356, Loss: 0.0276\n",
      "Epoch   1 Batch  525/2872 - Train Accuracy: 0.9698, Validation Accuracy: 0.9394, Loss: 0.0264\n",
      "Epoch   1 Batch  550/2872 - Train Accuracy: 0.9605, Validation Accuracy: 0.9583, Loss: 0.0439\n",
      "Epoch   1 Batch  575/2872 - Train Accuracy: 0.8991, Validation Accuracy: 0.9384, Loss: 0.0436\n",
      "Epoch   1 Batch  600/2872 - Train Accuracy: 0.9594, Validation Accuracy: 0.9517, Loss: 0.0316\n",
      "Epoch   1 Batch  625/2872 - Train Accuracy: 0.9583, Validation Accuracy: 0.9735, Loss: 0.0669\n",
      "Epoch   1 Batch  650/2872 - Train Accuracy: 0.9375, Validation Accuracy: 0.9697, Loss: 0.0674\n",
      "Epoch   1 Batch  675/2872 - Train Accuracy: 0.9814, Validation Accuracy: 0.9697, Loss: 0.0210\n",
      "Epoch   1 Batch  700/2872 - Train Accuracy: 0.9857, Validation Accuracy: 0.9612, Loss: 0.0281\n",
      "Epoch   1 Batch  725/2872 - Train Accuracy: 0.9563, Validation Accuracy: 0.9527, Loss: 0.0282\n",
      "Epoch   1 Batch  750/2872 - Train Accuracy: 0.9437, Validation Accuracy: 0.9186, Loss: 0.0306\n",
      "Epoch   1 Batch  775/2872 - Train Accuracy: 0.9875, Validation Accuracy: 0.9328, Loss: 0.0468\n",
      "Epoch   1 Batch  800/2872 - Train Accuracy: 0.9073, Validation Accuracy: 0.9508, Loss: 0.0455\n",
      "Epoch   1 Batch  825/2872 - Train Accuracy: 0.9232, Validation Accuracy: 0.9072, Loss: 0.0540\n",
      "Epoch   1 Batch  850/2872 - Train Accuracy: 0.9500, Validation Accuracy: 0.9451, Loss: 0.0290\n",
      "Epoch   1 Batch  875/2872 - Train Accuracy: 0.9281, Validation Accuracy: 0.9763, Loss: 0.0479\n",
      "Epoch   1 Batch  900/2872 - Train Accuracy: 0.9531, Validation Accuracy: 0.9384, Loss: 0.0350\n",
      "Epoch   1 Batch  925/2872 - Train Accuracy: 0.9594, Validation Accuracy: 0.9233, Loss: 0.0350\n",
      "Epoch   1 Batch  950/2872 - Train Accuracy: 0.9673, Validation Accuracy: 0.9356, Loss: 0.0261\n",
      "Epoch   1 Batch  975/2872 - Train Accuracy: 0.9437, Validation Accuracy: 0.9432, Loss: 0.0385\n",
      "Epoch   1 Batch 1000/2872 - Train Accuracy: 0.9531, Validation Accuracy: 0.9441, Loss: 0.0353\n",
      "Epoch   1 Batch 1025/2872 - Train Accuracy: 0.9846, Validation Accuracy: 0.9631, Loss: 0.0340\n",
      "Epoch   1 Batch 1050/2872 - Train Accuracy: 0.9688, Validation Accuracy: 0.9508, Loss: 0.0461\n",
      "Epoch   1 Batch 1075/2872 - Train Accuracy: 0.9271, Validation Accuracy: 0.9347, Loss: 0.0304\n",
      "Epoch   1 Batch 1100/2872 - Train Accuracy: 0.9625, Validation Accuracy: 0.9384, Loss: 0.0262\n",
      "Epoch   1 Batch 1125/2872 - Train Accuracy: 0.9677, Validation Accuracy: 0.9725, Loss: 0.0477\n",
      "Epoch   1 Batch 1150/2872 - Train Accuracy: 0.9760, Validation Accuracy: 0.9508, Loss: 0.0234\n",
      "Epoch   1 Batch 1175/2872 - Train Accuracy: 0.9490, Validation Accuracy: 0.9460, Loss: 0.0364\n",
      "Epoch   1 Batch 1200/2872 - Train Accuracy: 0.9125, Validation Accuracy: 0.9205, Loss: 0.0317\n",
      "Epoch   1 Batch 1225/2872 - Train Accuracy: 0.8739, Validation Accuracy: 0.9574, Loss: 0.0626\n",
      "Epoch   1 Batch 1250/2872 - Train Accuracy: 0.9702, Validation Accuracy: 0.9564, Loss: 0.0236\n",
      "Epoch   1 Batch 1275/2872 - Train Accuracy: 0.9573, Validation Accuracy: 0.9375, Loss: 0.0437\n",
      "Epoch   1 Batch 1300/2872 - Train Accuracy: 0.9770, Validation Accuracy: 0.9782, Loss: 0.0176\n",
      "Epoch   1 Batch 1325/2872 - Train Accuracy: 0.9677, Validation Accuracy: 0.9773, Loss: 0.0158\n",
      "Epoch   1 Batch 1350/2872 - Train Accuracy: 0.9479, Validation Accuracy: 0.9583, Loss: 0.0306\n",
      "Epoch   1 Batch 1375/2872 - Train Accuracy: 0.9854, Validation Accuracy: 0.9527, Loss: 0.0330\n",
      "Epoch   1 Batch 1400/2872 - Train Accuracy: 0.9740, Validation Accuracy: 0.9688, Loss: 0.0250\n",
      "Epoch   1 Batch 1425/2872 - Train Accuracy: 0.9452, Validation Accuracy: 0.9593, Loss: 0.0257\n",
      "Epoch   1 Batch 1450/2872 - Train Accuracy: 0.9698, Validation Accuracy: 0.9621, Loss: 0.0448\n",
      "Epoch   1 Batch 1475/2872 - Train Accuracy: 0.9112, Validation Accuracy: 0.9394, Loss: 0.0422\n",
      "Epoch   1 Batch 1500/2872 - Train Accuracy: 0.9771, Validation Accuracy: 0.9195, Loss: 0.0192\n",
      "Epoch   1 Batch 1525/2872 - Train Accuracy: 0.9854, Validation Accuracy: 0.9422, Loss: 0.0123\n",
      "Epoch   1 Batch 1550/2872 - Train Accuracy: 0.9534, Validation Accuracy: 0.9356, Loss: 0.0295\n"
     ]
    },
    {
     "name": "stdout",
     "output_type": "stream",
     "text": [
      "Epoch   1 Batch 1575/2872 - Train Accuracy: 0.9616, Validation Accuracy: 0.9621, Loss: 0.0377\n",
      "Epoch   1 Batch 1600/2872 - Train Accuracy: 0.9320, Validation Accuracy: 0.9545, Loss: 0.0534\n",
      "Epoch   1 Batch 1625/2872 - Train Accuracy: 0.9507, Validation Accuracy: 0.9508, Loss: 0.0249\n",
      "Epoch   1 Batch 1650/2872 - Train Accuracy: 0.9912, Validation Accuracy: 0.9801, Loss: 0.0205\n",
      "Epoch   1 Batch 1675/2872 - Train Accuracy: 0.9646, Validation Accuracy: 0.9508, Loss: 0.0175\n",
      "Epoch   1 Batch 1700/2872 - Train Accuracy: 0.9812, Validation Accuracy: 0.9792, Loss: 0.0313\n",
      "Epoch   1 Batch 1725/2872 - Train Accuracy: 0.9452, Validation Accuracy: 0.9470, Loss: 0.0361\n",
      "Epoch   1 Batch 1750/2872 - Train Accuracy: 0.9521, Validation Accuracy: 0.9612, Loss: 0.0413\n",
      "Epoch   1 Batch 1775/2872 - Train Accuracy: 0.9857, Validation Accuracy: 0.9479, Loss: 0.0207\n",
      "Epoch   1 Batch 1800/2872 - Train Accuracy: 0.9323, Validation Accuracy: 0.9366, Loss: 0.0324\n",
      "Epoch   1 Batch 1825/2872 - Train Accuracy: 0.9500, Validation Accuracy: 0.9792, Loss: 0.0178\n",
      "Epoch   1 Batch 1850/2872 - Train Accuracy: 0.9507, Validation Accuracy: 0.9261, Loss: 0.0319\n",
      "Epoch   1 Batch 1875/2872 - Train Accuracy: 0.9752, Validation Accuracy: 0.9744, Loss: 0.0177\n",
      "Epoch   1 Batch 1900/2872 - Train Accuracy: 0.9814, Validation Accuracy: 0.9337, Loss: 0.0225\n",
      "Epoch   1 Batch 1925/2872 - Train Accuracy: 0.9573, Validation Accuracy: 0.9678, Loss: 0.0321\n",
      "Epoch   1 Batch 1950/2872 - Train Accuracy: 0.9854, Validation Accuracy: 0.9612, Loss: 0.0354\n",
      "Epoch   1 Batch 1975/2872 - Train Accuracy: 0.9942, Validation Accuracy: 0.9763, Loss: 0.0223\n",
      "Epoch   1 Batch 2000/2872 - Train Accuracy: 0.9616, Validation Accuracy: 0.9621, Loss: 0.0224\n",
      "Epoch   1 Batch 2025/2872 - Train Accuracy: 0.9573, Validation Accuracy: 0.9877, Loss: 0.0200\n",
      "Epoch   1 Batch 2050/2872 - Train Accuracy: 0.9771, Validation Accuracy: 0.9612, Loss: 0.0198\n",
      "Epoch   1 Batch 2075/2872 - Train Accuracy: 0.9748, Validation Accuracy: 0.9631, Loss: 0.0279\n",
      "Epoch   1 Batch 2100/2872 - Train Accuracy: 0.9653, Validation Accuracy: 0.9517, Loss: 0.0178\n",
      "Epoch   1 Batch 2125/2872 - Train Accuracy: 0.9868, Validation Accuracy: 0.9527, Loss: 0.0192\n",
      "Epoch   1 Batch 2150/2872 - Train Accuracy: 0.9408, Validation Accuracy: 0.9564, Loss: 0.0272\n",
      "Epoch   1 Batch 2175/2872 - Train Accuracy: 0.9604, Validation Accuracy: 0.9394, Loss: 0.0160\n",
      "Epoch   1 Batch 2200/2872 - Train Accuracy: 0.9673, Validation Accuracy: 0.9678, Loss: 0.0264\n",
      "Epoch   1 Batch 2225/2872 - Train Accuracy: 0.9927, Validation Accuracy: 0.9489, Loss: 0.0308\n",
      "Epoch   1 Batch 2250/2872 - Train Accuracy: 0.9978, Validation Accuracy: 0.9688, Loss: 0.0155\n",
      "Epoch   1 Batch 2275/2872 - Train Accuracy: 0.9302, Validation Accuracy: 0.9659, Loss: 0.0318\n",
      "Epoch   1 Batch 2300/2872 - Train Accuracy: 0.9287, Validation Accuracy: 0.9621, Loss: 0.0275\n",
      "Epoch   1 Batch 2325/2872 - Train Accuracy: 0.9698, Validation Accuracy: 0.9593, Loss: 0.0213\n",
      "Epoch   1 Batch 2350/2872 - Train Accuracy: 0.9934, Validation Accuracy: 0.9678, Loss: 0.0143\n",
      "Epoch   1 Batch 2375/2872 - Train Accuracy: 0.9603, Validation Accuracy: 0.9735, Loss: 0.0253\n",
      "Epoch   1 Batch 2400/2872 - Train Accuracy: 0.9912, Validation Accuracy: 0.9631, Loss: 0.0189\n",
      "Epoch   1 Batch 2425/2872 - Train Accuracy: 0.9865, Validation Accuracy: 0.9688, Loss: 0.0445\n",
      "Epoch   1 Batch 2450/2872 - Train Accuracy: 0.9938, Validation Accuracy: 0.9451, Loss: 0.0194\n",
      "Epoch   1 Batch 2475/2872 - Train Accuracy: 0.9292, Validation Accuracy: 0.9583, Loss: 0.0303\n",
      "Epoch   1 Batch 2500/2872 - Train Accuracy: 0.9057, Validation Accuracy: 0.9640, Loss: 0.0788\n",
      "Epoch   1 Batch 2525/2872 - Train Accuracy: 0.9989, Validation Accuracy: 0.9915, Loss: 0.0108\n",
      "Epoch   1 Batch 2550/2872 - Train Accuracy: 0.9990, Validation Accuracy: 0.9413, Loss: 0.0129\n",
      "Epoch   1 Batch 2575/2872 - Train Accuracy: 0.9825, Validation Accuracy: 0.9640, Loss: 0.0229\n",
      "Epoch   1 Batch 2600/2872 - Train Accuracy: 0.9638, Validation Accuracy: 0.9460, Loss: 0.0218\n",
      "Epoch   1 Batch 2625/2872 - Train Accuracy: 0.9583, Validation Accuracy: 0.9688, Loss: 0.0184\n",
      "Epoch   1 Batch 2650/2872 - Train Accuracy: 0.9616, Validation Accuracy: 0.9451, Loss: 0.0169\n",
      "Epoch   1 Batch 2675/2872 - Train Accuracy: 0.9938, Validation Accuracy: 0.9337, Loss: 0.0090\n",
      "Epoch   1 Batch 2700/2872 - Train Accuracy: 0.9729, Validation Accuracy: 0.9612, Loss: 0.0177\n",
      "Epoch   1 Batch 2725/2872 - Train Accuracy: 0.9821, Validation Accuracy: 0.9290, Loss: 0.0183\n",
      "Epoch   1 Batch 2750/2872 - Train Accuracy: 0.9386, Validation Accuracy: 0.9451, Loss: 0.0281\n",
      "Epoch   1 Batch 2775/2872 - Train Accuracy: 0.9561, Validation Accuracy: 0.9564, Loss: 0.0200\n",
      "Epoch   1 Batch 2800/2872 - Train Accuracy: 0.9708, Validation Accuracy: 0.9479, Loss: 0.0143\n",
      "Epoch   1 Batch 2825/2872 - Train Accuracy: 0.9353, Validation Accuracy: 0.9422, Loss: 0.0334\n",
      "Epoch   1 Batch 2850/2872 - Train Accuracy: 0.9563, Validation Accuracy: 0.9498, Loss: 0.0204\n",
      "Epoch   2 Batch   25/2872 - Train Accuracy: 0.9594, Validation Accuracy: 0.9792, Loss: 0.0199\n",
      "Epoch   2 Batch   50/2872 - Train Accuracy: 0.9441, Validation Accuracy: 0.9744, Loss: 0.0228\n",
      "Epoch   2 Batch   75/2872 - Train Accuracy: 0.9464, Validation Accuracy: 0.9725, Loss: 0.0229\n",
      "Epoch   2 Batch  100/2872 - Train Accuracy: 0.9583, Validation Accuracy: 0.9697, Loss: 0.0192\n",
      "Epoch   2 Batch  125/2872 - Train Accuracy: 0.9433, Validation Accuracy: 0.9583, Loss: 0.0215\n",
      "Epoch   2 Batch  150/2872 - Train Accuracy: 0.9667, Validation Accuracy: 0.9621, Loss: 0.0210\n",
      "Epoch   2 Batch  175/2872 - Train Accuracy: 0.9836, Validation Accuracy: 0.9564, Loss: 0.0204\n",
      "Epoch   2 Batch  200/2872 - Train Accuracy: 0.9594, Validation Accuracy: 0.9583, Loss: 0.0247\n",
      "Epoch   2 Batch  225/2872 - Train Accuracy: 0.9989, Validation Accuracy: 0.9678, Loss: 0.0105\n",
      "Epoch   2 Batch  250/2872 - Train Accuracy: 0.9812, Validation Accuracy: 0.9669, Loss: 0.0197\n",
      "Epoch   2 Batch  275/2872 - Train Accuracy: 0.9693, Validation Accuracy: 0.9640, Loss: 0.0269\n",
      "Epoch   2 Batch  300/2872 - Train Accuracy: 0.9885, Validation Accuracy: 0.9697, Loss: 0.0108\n",
      "Epoch   2 Batch  325/2872 - Train Accuracy: 0.9178, Validation Accuracy: 0.9801, Loss: 0.0310\n",
      "Epoch   2 Batch  350/2872 - Train Accuracy: 0.9613, Validation Accuracy: 0.9498, Loss: 0.0154\n",
      "Epoch   2 Batch  375/2872 - Train Accuracy: 0.9781, Validation Accuracy: 0.9697, Loss: 0.0149\n",
      "Epoch   2 Batch  400/2872 - Train Accuracy: 0.9430, Validation Accuracy: 0.9508, Loss: 0.0298\n",
      "Epoch   2 Batch  425/2872 - Train Accuracy: 0.9452, Validation Accuracy: 0.9593, Loss: 0.0271\n",
      "Epoch   2 Batch  450/2872 - Train Accuracy: 0.9090, Validation Accuracy: 0.9242, Loss: 0.0437\n",
      "Epoch   2 Batch  475/2872 - Train Accuracy: 0.9770, Validation Accuracy: 0.9564, Loss: 0.0207\n",
      "Epoch   2 Batch  500/2872 - Train Accuracy: 0.9956, Validation Accuracy: 0.9735, Loss: 0.0137\n",
      "Epoch   2 Batch  525/2872 - Train Accuracy: 0.9771, Validation Accuracy: 0.9848, Loss: 0.0097\n",
      "Epoch   2 Batch  550/2872 - Train Accuracy: 0.9846, Validation Accuracy: 0.9915, Loss: 0.0239\n",
      "Epoch   2 Batch  575/2872 - Train Accuracy: 0.9441, Validation Accuracy: 0.9574, Loss: 0.0284\n",
      "Epoch   2 Batch  600/2872 - Train Accuracy: 0.9896, Validation Accuracy: 0.9688, Loss: 0.0098\n",
      "Epoch   2 Batch  625/2872 - Train Accuracy: 0.9740, Validation Accuracy: 0.9583, Loss: 0.0336\n",
      "Epoch   2 Batch  650/2872 - Train Accuracy: 0.9583, Validation Accuracy: 0.9820, Loss: 0.0467\n",
      "Epoch   2 Batch  675/2872 - Train Accuracy: 0.9846, Validation Accuracy: 0.9640, Loss: 0.0104\n",
      "Epoch   2 Batch  700/2872 - Train Accuracy: 0.9901, Validation Accuracy: 0.9621, Loss: 0.0096\n",
      "Epoch   2 Batch  725/2872 - Train Accuracy: 0.9667, Validation Accuracy: 0.9460, Loss: 0.0161\n",
      "Epoch   2 Batch  750/2872 - Train Accuracy: 0.9615, Validation Accuracy: 0.9460, Loss: 0.0160\n",
      "Epoch   2 Batch  775/2872 - Train Accuracy: 0.9833, Validation Accuracy: 0.9659, Loss: 0.0280\n",
      "Epoch   2 Batch  800/2872 - Train Accuracy: 0.9635, Validation Accuracy: 0.9706, Loss: 0.0210\n",
      "Epoch   2 Batch  825/2872 - Train Accuracy: 0.9518, Validation Accuracy: 0.9659, Loss: 0.0308\n",
      "Epoch   2 Batch  850/2872 - Train Accuracy: 0.9646, Validation Accuracy: 0.9621, Loss: 0.0161\n",
      "Epoch   2 Batch  875/2872 - Train Accuracy: 0.9729, Validation Accuracy: 0.9697, Loss: 0.0342\n"
     ]
    }
   ],
   "source": [
    "\"\"\"\n",
    "DON'T MODIFY ANYTHING IN THIS CELL\n",
    "\"\"\"\n",
    "def get_accuracy(target, logits):\n",
    "    \"\"\"\n",
    "    Calculate accuracy\n",
    "    \"\"\"\n",
    "    max_seq = max(target.shape[1], logits.shape[1])\n",
    "    if max_seq - target.shape[1]:\n",
    "        target = np.pad(\n",
    "            target,\n",
    "            [(0,0),(0,max_seq - target.shape[1])],\n",
    "            'constant')\n",
    "    if max_seq - logits.shape[1]:\n",
    "        logits = np.pad(\n",
    "            logits,\n",
    "            [(0,0),(0,max_seq - logits.shape[1])],\n",
    "            'constant')\n",
    "\n",
    "    return np.mean(np.equal(target, logits))\n",
    "\n",
    "# Split data to training and validation sets\n",
    "train_source = source_int_text[batch_size:]\n",
    "train_target = target_int_text[batch_size:]\n",
    "valid_source = source_int_text[:batch_size]\n",
    "valid_target = target_int_text[:batch_size]\n",
    "(valid_sources_batch, valid_targets_batch, valid_sources_lengths, valid_targets_lengths ) = next(get_batches(valid_source,\n",
    "                                                                                                             valid_target,\n",
    "                                                                                                             batch_size,\n",
    "                                                                                                             source_vocab_to_int['<PAD>'],\n",
    "                                                                                                             target_vocab_to_int['<PAD>']))                                                                                                  \n",
    "\n",
    "with tf.Session(graph=train_graph) as sess:    \n",
    "    sess.run(tf.global_variables_initializer())\n",
    "\n",
    "    for epoch_i in range(epochs):\n",
    "        for batch_i, (source_batch, target_batch, sources_lengths, targets_lengths) in enumerate(\n",
    "                get_batches(train_source, train_target, batch_size,\n",
    "                            source_vocab_to_int['<PAD>'],\n",
    "                            target_vocab_to_int['<PAD>'])):\n",
    "\n",
    "            _, loss = sess.run(\n",
    "                [train_op, cost],\n",
    "                {input_data: source_batch,\n",
    "                 targets: target_batch,\n",
    "                 lr: learning_rate,\n",
    "                 target_sequence_length: targets_lengths,\n",
    "                 source_sequence_length: sources_lengths,\n",
    "                 keep_prob: keep_probability})\n",
    "\n",
    "\n",
    "            if batch_i % display_step == 0 and batch_i > 0:\n",
    "\n",
    "\n",
    "                batch_train_logits = sess.run(\n",
    "                    inference_logits,\n",
    "                    {input_data: source_batch,\n",
    "                     source_sequence_length: sources_lengths,\n",
    "                     target_sequence_length: targets_lengths,\n",
    "                     keep_prob: 1.0})\n",
    "\n",
    "\n",
    "                batch_valid_logits = sess.run(\n",
    "                    inference_logits,\n",
    "                    {input_data: valid_sources_batch,\n",
    "                     source_sequence_length: valid_sources_lengths,\n",
    "                     target_sequence_length: valid_targets_lengths,\n",
    "                     keep_prob: 1.0})\n",
    "\n",
    "                train_acc = get_accuracy(target_batch, batch_train_logits)\n",
    "\n",
    "                valid_acc = get_accuracy(valid_targets_batch, batch_valid_logits)\n",
    "\n",
    "                print('Epoch {:>3} Batch {:>4}/{} - Train Accuracy: {:>6.4f}, Validation Accuracy: {:>6.4f}, Loss: {:>6.4f}'\n",
    "                      .format(epoch_i, batch_i, len(source_int_text) // batch_size, train_acc, valid_acc, loss))\n",
    "\n",
    "    # Save Model\n",
    "    saver = tf.train.Saver()\n",
    "    saver.save(sess, save_path)\n",
    "    print('Model Trained and Saved')"
   ]
  },
  {
   "cell_type": "markdown",
   "metadata": {},
   "source": [
    "### Save Parameters\n",
    "Save the `batch_size` and `save_path` parameters for inference."
   ]
  },
  {
   "cell_type": "code",
   "execution_count": 19,
   "metadata": {
    "collapsed": true
   },
   "outputs": [],
   "source": [
    "\"\"\"\n",
    "DON'T MODIFY ANYTHING IN THIS CELL\n",
    "\"\"\"\n",
    "# Save parameters for checkpoint\n",
    "helper.save_params(save_path)"
   ]
  },
  {
   "cell_type": "markdown",
   "metadata": {},
   "source": [
    "# Checkpoint"
   ]
  },
  {
   "cell_type": "code",
   "execution_count": 20,
   "metadata": {
    "collapsed": true
   },
   "outputs": [],
   "source": [
    "\"\"\"\n",
    "DON'T MODIFY ANYTHING IN THIS CELL\n",
    "\"\"\"\n",
    "import tensorflow as tf\n",
    "import numpy as np\n",
    "import helper\n",
    "import problem_unittests as tests\n",
    "\n",
    "_, (source_vocab_to_int, target_vocab_to_int), (source_int_to_vocab, target_int_to_vocab) = helper.load_preprocess()\n",
    "load_path = helper.load_params()"
   ]
  },
  {
   "cell_type": "markdown",
   "metadata": {},
   "source": [
    "## Sentence to Sequence\n",
    "To feed a sentence into the model for translation, you first need to preprocess it.  Implement the function `sentence_to_seq()` to preprocess new sentences.\n",
    "\n",
    "- Convert the sentence to lowercase\n",
    "- Convert words into ids using `vocab_to_int`\n",
    " - Convert words not in the vocabulary, to the `<UNK>` word id."
   ]
  },
  {
   "cell_type": "code",
   "execution_count": 22,
   "metadata": {},
   "outputs": [
    {
     "name": "stdout",
     "output_type": "stream",
     "text": [
      "Tests Passed\n"
     ]
    }
   ],
   "source": [
    "def sentence_to_seq(sentence, vocab_to_int):\n",
    "    \"\"\"\n",
    "    Convert a sentence to a sequence of ids\n",
    "    :param sentence: String\n",
    "    :param vocab_to_int: Dictionary to go from the words to an id\n",
    "    :return: List of word ids\n",
    "    \"\"\"\n",
    "\n",
    "    sentence = [vocab_to_int.get(word, vocab_to_int['<UNK>']) for word in sentence.lower().split()]\n",
    "    \n",
    "    return sentence\n",
    "\n",
    "\n",
    "\"\"\"\n",
    "DON'T MODIFY ANYTHING IN THIS CELL THAT IS BELOW THIS LINE\n",
    "\"\"\"\n",
    "tests.test_sentence_to_seq(sentence_to_seq)"
   ]
  },
  {
   "cell_type": "markdown",
   "metadata": {},
   "source": [
    "## Translate\n",
    "This will translate `translate_sentence` from English to French."
   ]
  },
  {
   "cell_type": "code",
   "execution_count": 27,
   "metadata": {
    "scrolled": true
   },
   "outputs": [
    {
     "name": "stdout",
     "output_type": "stream",
     "text": [
      "INFO:tensorflow:Restoring parameters from checkpoints/dev\n",
      "Input\n",
      "  Word Ids:      [2, 75, 190, 88, 144]\n",
      "  English Words: ['<UNK>', 'blue', 'green', 'red', '.']\n",
      "\n",
      "Prediction\n",
      "  Word Ids:      [345, 292, 202, 238, 338, 1]\n",
      "  French Words: son animal préféré est . <EOS>\n"
     ]
    }
   ],
   "source": [
    "translate_sentence = 'yello blue green red .'\n",
    "\n",
    "\n",
    "\"\"\"\n",
    "DON'T MODIFY ANYTHING IN THIS CELL\n",
    "\"\"\"\n",
    "translate_sentence = sentence_to_seq(translate_sentence, source_vocab_to_int)\n",
    "\n",
    "loaded_graph = tf.Graph()\n",
    "with tf.Session(graph=loaded_graph) as sess:\n",
    "    # Load saved model\n",
    "    loader = tf.train.import_meta_graph(load_path + '.meta')\n",
    "    loader.restore(sess, load_path)\n",
    "\n",
    "    input_data = loaded_graph.get_tensor_by_name('input:0')\n",
    "    logits = loaded_graph.get_tensor_by_name('predictions:0')\n",
    "    target_sequence_length = loaded_graph.get_tensor_by_name('target_sequence_length:0')\n",
    "    source_sequence_length = loaded_graph.get_tensor_by_name('source_sequence_length:0')\n",
    "    keep_prob = loaded_graph.get_tensor_by_name('keep_prob:0')\n",
    "\n",
    "    translate_logits = sess.run(logits, {input_data: [translate_sentence]*batch_size,\n",
    "                                         target_sequence_length: [len(translate_sentence)*2]*batch_size,\n",
    "                                         source_sequence_length: [len(translate_sentence)]*batch_size,\n",
    "                                         keep_prob: 1.0})[0]\n",
    "\n",
    "print('Input')\n",
    "print('  Word Ids:      {}'.format([i for i in translate_sentence]))\n",
    "print('  English Words: {}'.format([source_int_to_vocab[i] for i in translate_sentence]))\n",
    "\n",
    "print('\\nPrediction')\n",
    "print('  Word Ids:      {}'.format([i for i in translate_logits]))\n",
    "print('  French Words: {}'.format(\" \".join([target_int_to_vocab[i] for i in translate_logits])))\n"
   ]
  },
  {
   "cell_type": "markdown",
   "metadata": {},
   "source": [
    "## Imperfect Translation\n",
    "You might notice that some sentences translate better than others.  Since the dataset you're using only has a vocabulary of 227 English words of the thousands that you use, you're only going to see good results using these words.  For this project, you don't need a perfect translation. However, if you want to create a better translation model, you'll need better data.\n",
    "\n",
    "You can train on the [WMT10 French-English corpus](http://www.statmt.org/wmt10/training-giga-fren.tar).  This dataset has more vocabulary and richer in topics discussed.  However, this will take you days to train, so make sure you've a GPU and the neural network is performing well on dataset we provided.  Just make sure you play with the WMT10 corpus after you've submitted this project.\n",
    "## Submitting This Project\n",
    "When submitting this project, make sure to run all the cells before saving the notebook. Save the notebook file as \"dlnd_language_translation.ipynb\" and save it as a HTML file under \"File\" -> \"Download as\". Include the \"helper.py\" and \"problem_unittests.py\" files in your submission."
   ]
  }
 ],
 "metadata": {
  "anaconda-cloud": {},
  "kernelspec": {
   "display_name": "Python 3",
   "language": "python",
   "name": "python3"
  },
  "language_info": {
   "codemirror_mode": {
    "name": "ipython",
    "version": 3
   },
   "file_extension": ".py",
   "mimetype": "text/x-python",
   "name": "python",
   "nbconvert_exporter": "python",
   "pygments_lexer": "ipython3",
   "version": "3.5.3"
  }
 },
 "nbformat": 4,
 "nbformat_minor": 1
}
